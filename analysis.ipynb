{
 "cells": [
  {
   "cell_type": "code",
   "execution_count": 1,
   "metadata": {},
   "outputs": [],
   "source": [
    "import pandas as pd\n",
    "from pandasql import sqldf # type: ignore\n",
    "\n",
    "# Set up pandas and pandasql\n",
    "pd.set_option('display.max_columns', None)\n",
    "pd.set_option('display.max_rows', None)\n",
    "pysqldf = lambda q: sqldf(q, globals())\n",
    "\n",
    "# Load the data\n",
    "subscriptions = pd.read_csv(\"subscriptions.csv\").rename(columns={\"id\": \"subscription_id_pk\"})\n",
    "universities = pd.read_csv(\"universities.csv\").rename(columns={\"id\": \"university_id_pk\", \"name\": \"university_name\"})\n",
    "users = pd.read_csv(\"users.csv\").rename(columns={\"id\": \"user_id_pk\", \"name\": \"user_name\"})"
   ]
  },
  {
   "cell_type": "code",
   "execution_count": 2,
   "metadata": {},
   "outputs": [],
   "source": [
    "q = \"\"\"\n",
    "select\n",
    "    case\n",
    "        when CAST(strftime('%j', created_at) AS INTEGER) >= 304 then strftime('%Y', created_at) || \"-\" || strftime('%Y', date(created_at, '+1 year'))\n",
    "        else strftime('%Y', date(created_at, '-1 year')) || \"-\" || strftime('%Y', created_at)\n",
    "    end as user_created_at_school_year,\n",
    "    case\n",
    "        when CAST(strftime('%j', term_start) AS INTEGER) >= 304 then strftime('%Y', term_start) || \"-\" || strftime('%Y', date(term_start, '+1 year'))\n",
    "        else strftime('%Y', date(term_start, '-1 year')) || \"-\" || strftime('%Y', term_start)\n",
    "    end as term_start_school_year,\n",
    "    case\n",
    "        when CAST(strftime('%j', term_end) AS INTEGER) >= 304 then strftime('%Y', term_end) || \"-\" || strftime('%Y', date(term_end, '+1 year'))\n",
    "        else strftime('%Y', date(term_end, '-1 year')) || \"-\" || strftime('%Y', term_end)\n",
    "    end as term_end_school_year,\n",
    "    julianday(date(term_end)) - julianday(date(term_start)) as term_length,\n",
    "    *\n",
    "from users\n",
    "join universities on users.university_id = universities.university_id_pk\n",
    "left join (select *, row_number() over (partition by user_id order by term_start asc) as payment_number from subscriptions) as subs on users.user_id_pk = subs.user_id\n",
    "\"\"\"\n",
    "\n",
    "joined_df = pysqldf(q)"
   ]
  },
  {
   "cell_type": "markdown",
   "metadata": {},
   "source": [
    "### Top 75 schools of paid subscribers"
   ]
  },
  {
   "cell_type": "markdown",
   "metadata": {},
   "source": [
    "Table sorted by the sum of total_students and n_paid_students descending"
   ]
  },
  {
   "cell_type": "code",
   "execution_count": 3,
   "metadata": {},
   "outputs": [
    {
     "data": {
      "text/html": [
       "<div>\n",
       "<style scoped>\n",
       "    .dataframe tbody tr th:only-of-type {\n",
       "        vertical-align: middle;\n",
       "    }\n",
       "\n",
       "    .dataframe tbody tr th {\n",
       "        vertical-align: top;\n",
       "    }\n",
       "\n",
       "    .dataframe thead th {\n",
       "        text-align: right;\n",
       "    }\n",
       "</style>\n",
       "<table border=\"1\" class=\"dataframe\">\n",
       "  <thead>\n",
       "    <tr style=\"text-align: right;\">\n",
       "      <th></th>\n",
       "      <th>university_id_pk</th>\n",
       "      <th>university_name</th>\n",
       "      <th>total_students</th>\n",
       "      <th>n_paid_subs</th>\n",
       "      <th>conversion_rate</th>\n",
       "    </tr>\n",
       "  </thead>\n",
       "  <tbody>\n",
       "    <tr>\n",
       "      <th>0</th>\n",
       "      <td>30</td>\n",
       "      <td>Touro College of Osteopathic Medicine</td>\n",
       "      <td>3064</td>\n",
       "      <td>1313</td>\n",
       "      <td>42.85</td>\n",
       "    </tr>\n",
       "    <tr>\n",
       "      <th>1</th>\n",
       "      <td>10</td>\n",
       "      <td>Lake Erie College of Osteopathic Medicine</td>\n",
       "      <td>2363</td>\n",
       "      <td>1127</td>\n",
       "      <td>47.69</td>\n",
       "    </tr>\n",
       "    <tr>\n",
       "      <th>2</th>\n",
       "      <td>34</td>\n",
       "      <td>Philadelphia College of Osteopathic Medicine</td>\n",
       "      <td>2479</td>\n",
       "      <td>920</td>\n",
       "      <td>37.11</td>\n",
       "    </tr>\n",
       "    <tr>\n",
       "      <th>3</th>\n",
       "      <td>15</td>\n",
       "      <td>Midwestern University Chicago College of Osteo...</td>\n",
       "      <td>2366</td>\n",
       "      <td>404</td>\n",
       "      <td>17.08</td>\n",
       "    </tr>\n",
       "    <tr>\n",
       "      <th>4</th>\n",
       "      <td>8</td>\n",
       "      <td>Western University of Health Sciences College ...</td>\n",
       "      <td>2264</td>\n",
       "      <td>503</td>\n",
       "      <td>22.22</td>\n",
       "    </tr>\n",
       "    <tr>\n",
       "      <th>5</th>\n",
       "      <td>391</td>\n",
       "      <td>Texas Tech University Health Sciences Center S...</td>\n",
       "      <td>1784</td>\n",
       "      <td>955</td>\n",
       "      <td>53.53</td>\n",
       "    </tr>\n",
       "    <tr>\n",
       "      <th>6</th>\n",
       "      <td>13</td>\n",
       "      <td>Des Moines University College of Osteopathic M...</td>\n",
       "      <td>1835</td>\n",
       "      <td>510</td>\n",
       "      <td>27.79</td>\n",
       "    </tr>\n",
       "    <tr>\n",
       "      <th>7</th>\n",
       "      <td>51</td>\n",
       "      <td>University of Arkansas for Medical Sciences Co...</td>\n",
       "      <td>1598</td>\n",
       "      <td>724</td>\n",
       "      <td>45.31</td>\n",
       "    </tr>\n",
       "    <tr>\n",
       "      <th>8</th>\n",
       "      <td>193</td>\n",
       "      <td>Saint Louis University School of Medicine</td>\n",
       "      <td>1295</td>\n",
       "      <td>976</td>\n",
       "      <td>75.37</td>\n",
       "    </tr>\n",
       "    <tr>\n",
       "      <th>9</th>\n",
       "      <td>203</td>\n",
       "      <td>Wake Forest School of Medicine of Wake Forest ...</td>\n",
       "      <td>1474</td>\n",
       "      <td>755</td>\n",
       "      <td>51.22</td>\n",
       "    </tr>\n",
       "    <tr>\n",
       "      <th>10</th>\n",
       "      <td>74</td>\n",
       "      <td>Georgetown University School of Medicine</td>\n",
       "      <td>1777</td>\n",
       "      <td>443</td>\n",
       "      <td>24.93</td>\n",
       "    </tr>\n",
       "    <tr>\n",
       "      <th>11</th>\n",
       "      <td>32</td>\n",
       "      <td>Oklahoma State University Center for Health Sc...</td>\n",
       "      <td>1348</td>\n",
       "      <td>825</td>\n",
       "      <td>61.20</td>\n",
       "    </tr>\n",
       "    <tr>\n",
       "      <th>12</th>\n",
       "      <td>47</td>\n",
       "      <td>University of Alabama at Birmingham Marnix E. ...</td>\n",
       "      <td>1615</td>\n",
       "      <td>531</td>\n",
       "      <td>32.88</td>\n",
       "    </tr>\n",
       "    <tr>\n",
       "      <th>13</th>\n",
       "      <td>2672</td>\n",
       "      <td>New York Medical College</td>\n",
       "      <td>1452</td>\n",
       "      <td>553</td>\n",
       "      <td>38.09</td>\n",
       "    </tr>\n",
       "    <tr>\n",
       "      <th>14</th>\n",
       "      <td>98</td>\n",
       "      <td>Indiana University School of Medicine</td>\n",
       "      <td>1429</td>\n",
       "      <td>497</td>\n",
       "      <td>34.78</td>\n",
       "    </tr>\n",
       "    <tr>\n",
       "      <th>15</th>\n",
       "      <td>267</td>\n",
       "      <td>University of Oklahoma College of Medicine</td>\n",
       "      <td>1381</td>\n",
       "      <td>536</td>\n",
       "      <td>38.81</td>\n",
       "    </tr>\n",
       "    <tr>\n",
       "      <th>16</th>\n",
       "      <td>281</td>\n",
       "      <td>Sidney Kimmel Medical College at Thomas Jeffer...</td>\n",
       "      <td>1676</td>\n",
       "      <td>218</td>\n",
       "      <td>13.01</td>\n",
       "    </tr>\n",
       "    <tr>\n",
       "      <th>17</th>\n",
       "      <td>126</td>\n",
       "      <td>Louisiana State University School of Medicine ...</td>\n",
       "      <td>1629</td>\n",
       "      <td>262</td>\n",
       "      <td>16.08</td>\n",
       "    </tr>\n",
       "    <tr>\n",
       "      <th>18</th>\n",
       "      <td>382</td>\n",
       "      <td>University of Tennessee Health Science Center ...</td>\n",
       "      <td>1353</td>\n",
       "      <td>492</td>\n",
       "      <td>36.36</td>\n",
       "    </tr>\n",
       "    <tr>\n",
       "      <th>19</th>\n",
       "      <td>9</td>\n",
       "      <td>Rocky Vista University College of Osteopathic ...</td>\n",
       "      <td>1383</td>\n",
       "      <td>405</td>\n",
       "      <td>29.28</td>\n",
       "    </tr>\n",
       "    <tr>\n",
       "      <th>20</th>\n",
       "      <td>29</td>\n",
       "      <td>New York Institute of Technology College of Os...</td>\n",
       "      <td>1451</td>\n",
       "      <td>290</td>\n",
       "      <td>19.99</td>\n",
       "    </tr>\n",
       "    <tr>\n",
       "      <th>21</th>\n",
       "      <td>53</td>\n",
       "      <td>University of Arizona College of Medicine</td>\n",
       "      <td>1524</td>\n",
       "      <td>207</td>\n",
       "      <td>13.58</td>\n",
       "    </tr>\n",
       "    <tr>\n",
       "      <th>22</th>\n",
       "      <td>37</td>\n",
       "      <td>Lincoln Memorial University DeBusk College of ...</td>\n",
       "      <td>1438</td>\n",
       "      <td>262</td>\n",
       "      <td>18.22</td>\n",
       "    </tr>\n",
       "    <tr>\n",
       "      <th>23</th>\n",
       "      <td>197</td>\n",
       "      <td>University of Mississippi School of Medicine</td>\n",
       "      <td>1264</td>\n",
       "      <td>422</td>\n",
       "      <td>33.39</td>\n",
       "    </tr>\n",
       "    <tr>\n",
       "      <th>24</th>\n",
       "      <td>192</td>\n",
       "      <td>University of Minnesota Medical School</td>\n",
       "      <td>1428</td>\n",
       "      <td>238</td>\n",
       "      <td>16.67</td>\n",
       "    </tr>\n",
       "    <tr>\n",
       "      <th>25</th>\n",
       "      <td>132</td>\n",
       "      <td>University of Massachusetts T.H. Chan School o...</td>\n",
       "      <td>1276</td>\n",
       "      <td>376</td>\n",
       "      <td>29.47</td>\n",
       "    </tr>\n",
       "    <tr>\n",
       "      <th>26</th>\n",
       "      <td>289</td>\n",
       "      <td>University of Puerto Rico School of Medicine</td>\n",
       "      <td>1190</td>\n",
       "      <td>452</td>\n",
       "      <td>37.98</td>\n",
       "    </tr>\n",
       "    <tr>\n",
       "      <th>27</th>\n",
       "      <td>22</td>\n",
       "      <td>Kansas City University of Medicine and Bioscie...</td>\n",
       "      <td>1067</td>\n",
       "      <td>559</td>\n",
       "      <td>52.39</td>\n",
       "    </tr>\n",
       "    <tr>\n",
       "      <th>28</th>\n",
       "      <td>31</td>\n",
       "      <td>Ohio University Heritage College of Osteopathi...</td>\n",
       "      <td>1303</td>\n",
       "      <td>301</td>\n",
       "      <td>23.10</td>\n",
       "    </tr>\n",
       "    <tr>\n",
       "      <th>29</th>\n",
       "      <td>128</td>\n",
       "      <td>Tulane University School of Medicine</td>\n",
       "      <td>1301</td>\n",
       "      <td>300</td>\n",
       "      <td>23.06</td>\n",
       "    </tr>\n",
       "    <tr>\n",
       "      <th>30</th>\n",
       "      <td>181</td>\n",
       "      <td>Uniformed Services University of the Health Sc...</td>\n",
       "      <td>1179</td>\n",
       "      <td>416</td>\n",
       "      <td>35.28</td>\n",
       "    </tr>\n",
       "    <tr>\n",
       "      <th>31</th>\n",
       "      <td>97</td>\n",
       "      <td>University of Illinois College of Medicine</td>\n",
       "      <td>1324</td>\n",
       "      <td>256</td>\n",
       "      <td>19.34</td>\n",
       "    </tr>\n",
       "    <tr>\n",
       "      <th>32</th>\n",
       "      <td>228</td>\n",
       "      <td>Albany Medical College</td>\n",
       "      <td>1063</td>\n",
       "      <td>474</td>\n",
       "      <td>44.59</td>\n",
       "    </tr>\n",
       "    <tr>\n",
       "      <th>33</th>\n",
       "      <td>4</td>\n",
       "      <td>Midwestern University Arizona College of Osteo...</td>\n",
       "      <td>913</td>\n",
       "      <td>563</td>\n",
       "      <td>61.66</td>\n",
       "    </tr>\n",
       "    <tr>\n",
       "      <th>34</th>\n",
       "      <td>43</td>\n",
       "      <td>Edward Via College of Osteopathic Medicine</td>\n",
       "      <td>1062</td>\n",
       "      <td>393</td>\n",
       "      <td>37.01</td>\n",
       "    </tr>\n",
       "    <tr>\n",
       "      <th>35</th>\n",
       "      <td>72</td>\n",
       "      <td>Yale School of Medicine</td>\n",
       "      <td>967</td>\n",
       "      <td>483</td>\n",
       "      <td>49.95</td>\n",
       "    </tr>\n",
       "    <tr>\n",
       "      <th>36</th>\n",
       "      <td>130</td>\n",
       "      <td>Harvard Medical School</td>\n",
       "      <td>1292</td>\n",
       "      <td>144</td>\n",
       "      <td>11.15</td>\n",
       "    </tr>\n",
       "    <tr>\n",
       "      <th>37</th>\n",
       "      <td>261</td>\n",
       "      <td>Northeast Ohio Medical University</td>\n",
       "      <td>1160</td>\n",
       "      <td>271</td>\n",
       "      <td>23.36</td>\n",
       "    </tr>\n",
       "    <tr>\n",
       "      <th>38</th>\n",
       "      <td>85</td>\n",
       "      <td>Medical College of Georgia at Augusta University</td>\n",
       "      <td>1247</td>\n",
       "      <td>183</td>\n",
       "      <td>14.68</td>\n",
       "    </tr>\n",
       "    <tr>\n",
       "      <th>39</th>\n",
       "      <td>286</td>\n",
       "      <td>Ponce School of Medicine</td>\n",
       "      <td>998</td>\n",
       "      <td>428</td>\n",
       "      <td>42.89</td>\n",
       "    </tr>\n",
       "    <tr>\n",
       "      <th>40</th>\n",
       "      <td>92</td>\n",
       "      <td>Loyola University Chicago Stritch School of Me...</td>\n",
       "      <td>1198</td>\n",
       "      <td>195</td>\n",
       "      <td>16.28</td>\n",
       "    </tr>\n",
       "    <tr>\n",
       "      <th>41</th>\n",
       "      <td>2635</td>\n",
       "      <td>Michigan State University</td>\n",
       "      <td>1325</td>\n",
       "      <td>21</td>\n",
       "      <td>1.58</td>\n",
       "    </tr>\n",
       "    <tr>\n",
       "      <th>42</th>\n",
       "      <td>46</td>\n",
       "      <td>West Virginia School of Osteopathic Medicine</td>\n",
       "      <td>1090</td>\n",
       "      <td>249</td>\n",
       "      <td>22.84</td>\n",
       "    </tr>\n",
       "    <tr>\n",
       "      <th>43</th>\n",
       "      <td>73</td>\n",
       "      <td>George Washington University School of Medicin...</td>\n",
       "      <td>1190</td>\n",
       "      <td>147</td>\n",
       "      <td>12.35</td>\n",
       "    </tr>\n",
       "    <tr>\n",
       "      <th>44</th>\n",
       "      <td>395</td>\n",
       "      <td>University of Texas Medical Branch School of M...</td>\n",
       "      <td>1049</td>\n",
       "      <td>277</td>\n",
       "      <td>26.41</td>\n",
       "    </tr>\n",
       "    <tr>\n",
       "      <th>45</th>\n",
       "      <td>39</td>\n",
       "      <td>University of North Texas Health Science Cente...</td>\n",
       "      <td>1131</td>\n",
       "      <td>185</td>\n",
       "      <td>16.36</td>\n",
       "    </tr>\n",
       "    <tr>\n",
       "      <th>46</th>\n",
       "      <td>474</td>\n",
       "      <td>West Virginia University School of Medicine</td>\n",
       "      <td>1004</td>\n",
       "      <td>307</td>\n",
       "      <td>30.58</td>\n",
       "    </tr>\n",
       "    <tr>\n",
       "      <th>47</th>\n",
       "      <td>277</td>\n",
       "      <td>Lewis Katz School of Medicine at Temple Univer...</td>\n",
       "      <td>1143</td>\n",
       "      <td>156</td>\n",
       "      <td>13.65</td>\n",
       "    </tr>\n",
       "    <tr>\n",
       "      <th>48</th>\n",
       "      <td>386</td>\n",
       "      <td>Baylor College of Medicine</td>\n",
       "      <td>880</td>\n",
       "      <td>410</td>\n",
       "      <td>46.59</td>\n",
       "    </tr>\n",
       "    <tr>\n",
       "      <th>49</th>\n",
       "      <td>188</td>\n",
       "      <td>Wayne State University School of Medicine</td>\n",
       "      <td>1087</td>\n",
       "      <td>202</td>\n",
       "      <td>18.58</td>\n",
       "    </tr>\n",
       "    <tr>\n",
       "      <th>50</th>\n",
       "      <td>187</td>\n",
       "      <td>University of Michigan Medical School</td>\n",
       "      <td>1189</td>\n",
       "      <td>87</td>\n",
       "      <td>7.32</td>\n",
       "    </tr>\n",
       "    <tr>\n",
       "      <th>51</th>\n",
       "      <td>397</td>\n",
       "      <td>University of Texas Southwestern Medical School</td>\n",
       "      <td>1028</td>\n",
       "      <td>219</td>\n",
       "      <td>21.30</td>\n",
       "    </tr>\n",
       "    <tr>\n",
       "      <th>52</th>\n",
       "      <td>24</td>\n",
       "      <td>Campbell University School of Osteopathic Medi...</td>\n",
       "      <td>1045</td>\n",
       "      <td>184</td>\n",
       "      <td>17.61</td>\n",
       "    </tr>\n",
       "    <tr>\n",
       "      <th>53</th>\n",
       "      <td>432</td>\n",
       "      <td>University of Virginia School of Medicine</td>\n",
       "      <td>1117</td>\n",
       "      <td>102</td>\n",
       "      <td>9.13</td>\n",
       "    </tr>\n",
       "    <tr>\n",
       "      <th>54</th>\n",
       "      <td>19</td>\n",
       "      <td>University of New England College of Osteopath...</td>\n",
       "      <td>1006</td>\n",
       "      <td>186</td>\n",
       "      <td>18.49</td>\n",
       "    </tr>\n",
       "    <tr>\n",
       "      <th>55</th>\n",
       "      <td>195</td>\n",
       "      <td>University of Missouri-Kansas City School of M...</td>\n",
       "      <td>752</td>\n",
       "      <td>406</td>\n",
       "      <td>53.99</td>\n",
       "    </tr>\n",
       "    <tr>\n",
       "      <th>56</th>\n",
       "      <td>2786</td>\n",
       "      <td>University of Washington</td>\n",
       "      <td>1049</td>\n",
       "      <td>107</td>\n",
       "      <td>10.20</td>\n",
       "    </tr>\n",
       "    <tr>\n",
       "      <th>57</th>\n",
       "      <td>433</td>\n",
       "      <td>Virginia Commonwealth University School of Med...</td>\n",
       "      <td>1029</td>\n",
       "      <td>125</td>\n",
       "      <td>12.15</td>\n",
       "    </tr>\n",
       "    <tr>\n",
       "      <th>58</th>\n",
       "      <td>234</td>\n",
       "      <td>Jacobs School of Medicine and Biomedical Scien...</td>\n",
       "      <td>998</td>\n",
       "      <td>153</td>\n",
       "      <td>15.33</td>\n",
       "    </tr>\n",
       "    <tr>\n",
       "      <th>59</th>\n",
       "      <td>82</td>\n",
       "      <td>University of Miami Leonard M. Miller School o...</td>\n",
       "      <td>918</td>\n",
       "      <td>230</td>\n",
       "      <td>25.05</td>\n",
       "    </tr>\n",
       "    <tr>\n",
       "      <th>60</th>\n",
       "      <td>398</td>\n",
       "      <td>University of Utah School of Medicine</td>\n",
       "      <td>833</td>\n",
       "      <td>288</td>\n",
       "      <td>34.57</td>\n",
       "    </tr>\n",
       "    <tr>\n",
       "      <th>61</th>\n",
       "      <td>5</td>\n",
       "      <td>A.T. Still University School of Osteopathic Me...</td>\n",
       "      <td>950</td>\n",
       "      <td>139</td>\n",
       "      <td>14.63</td>\n",
       "    </tr>\n",
       "    <tr>\n",
       "      <th>62</th>\n",
       "      <td>11</td>\n",
       "      <td>Nova Southeastern University Dr. Kiran C. Pate...</td>\n",
       "      <td>806</td>\n",
       "      <td>281</td>\n",
       "      <td>34.86</td>\n",
       "    </tr>\n",
       "    <tr>\n",
       "      <th>63</th>\n",
       "      <td>123</td>\n",
       "      <td>University of Kansas School of Medicine</td>\n",
       "      <td>946</td>\n",
       "      <td>124</td>\n",
       "      <td>13.11</td>\n",
       "    </tr>\n",
       "    <tr>\n",
       "      <th>64</th>\n",
       "      <td>205</td>\n",
       "      <td>Creighton University School of Medicine</td>\n",
       "      <td>980</td>\n",
       "      <td>90</td>\n",
       "      <td>9.18</td>\n",
       "    </tr>\n",
       "    <tr>\n",
       "      <th>65</th>\n",
       "      <td>227</td>\n",
       "      <td>University of Nevada, Reno School of Medicine</td>\n",
       "      <td>750</td>\n",
       "      <td>308</td>\n",
       "      <td>41.07</td>\n",
       "    </tr>\n",
       "    <tr>\n",
       "      <th>66</th>\n",
       "      <td>440</td>\n",
       "      <td>Washington State University Elson S. Floyd Col...</td>\n",
       "      <td>649</td>\n",
       "      <td>404</td>\n",
       "      <td>62.25</td>\n",
       "    </tr>\n",
       "    <tr>\n",
       "      <th>67</th>\n",
       "      <td>471</td>\n",
       "      <td>Medical College of Wisconsin</td>\n",
       "      <td>952</td>\n",
       "      <td>99</td>\n",
       "      <td>10.40</td>\n",
       "    </tr>\n",
       "    <tr>\n",
       "      <th>68</th>\n",
       "      <td>202</td>\n",
       "      <td>University of North Carolina at Chapel Hill Sc...</td>\n",
       "      <td>863</td>\n",
       "      <td>182</td>\n",
       "      <td>21.09</td>\n",
       "    </tr>\n",
       "    <tr>\n",
       "      <th>69</th>\n",
       "      <td>392</td>\n",
       "      <td>The University of Texas Health Science Center ...</td>\n",
       "      <td>645</td>\n",
       "      <td>378</td>\n",
       "      <td>58.60</td>\n",
       "    </tr>\n",
       "    <tr>\n",
       "      <th>70</th>\n",
       "      <td>59</td>\n",
       "      <td>Keck School of Medicine of the University of S...</td>\n",
       "      <td>930</td>\n",
       "      <td>86</td>\n",
       "      <td>9.25</td>\n",
       "    </tr>\n",
       "    <tr>\n",
       "      <th>71</th>\n",
       "      <td>262</td>\n",
       "      <td>Ohio State University College of Medicine</td>\n",
       "      <td>859</td>\n",
       "      <td>156</td>\n",
       "      <td>18.16</td>\n",
       "    </tr>\n",
       "    <tr>\n",
       "      <th>72</th>\n",
       "      <td>387</td>\n",
       "      <td>McGovern Medical School at the University of T...</td>\n",
       "      <td>878</td>\n",
       "      <td>124</td>\n",
       "      <td>14.12</td>\n",
       "    </tr>\n",
       "    <tr>\n",
       "      <th>73</th>\n",
       "      <td>14</td>\n",
       "      <td>Idaho College of Osteopathic Medicine</td>\n",
       "      <td>587</td>\n",
       "      <td>413</td>\n",
       "      <td>70.36</td>\n",
       "    </tr>\n",
       "    <tr>\n",
       "      <th>74</th>\n",
       "      <td>206</td>\n",
       "      <td>University of Nebraska College of Medicine</td>\n",
       "      <td>885</td>\n",
       "      <td>100</td>\n",
       "      <td>11.30</td>\n",
       "    </tr>\n",
       "  </tbody>\n",
       "</table>\n",
       "</div>"
      ],
      "text/plain": [
       "    university_id_pk                                    university_name  \\\n",
       "0                 30              Touro College of Osteopathic Medicine   \n",
       "1                 10          Lake Erie College of Osteopathic Medicine   \n",
       "2                 34       Philadelphia College of Osteopathic Medicine   \n",
       "3                 15  Midwestern University Chicago College of Osteo...   \n",
       "4                  8  Western University of Health Sciences College ...   \n",
       "5                391  Texas Tech University Health Sciences Center S...   \n",
       "6                 13  Des Moines University College of Osteopathic M...   \n",
       "7                 51  University of Arkansas for Medical Sciences Co...   \n",
       "8                193          Saint Louis University School of Medicine   \n",
       "9                203  Wake Forest School of Medicine of Wake Forest ...   \n",
       "10                74           Georgetown University School of Medicine   \n",
       "11                32  Oklahoma State University Center for Health Sc...   \n",
       "12                47  University of Alabama at Birmingham Marnix E. ...   \n",
       "13              2672                           New York Medical College   \n",
       "14                98              Indiana University School of Medicine   \n",
       "15               267         University of Oklahoma College of Medicine   \n",
       "16               281  Sidney Kimmel Medical College at Thomas Jeffer...   \n",
       "17               126  Louisiana State University School of Medicine ...   \n",
       "18               382  University of Tennessee Health Science Center ...   \n",
       "19                 9  Rocky Vista University College of Osteopathic ...   \n",
       "20                29  New York Institute of Technology College of Os...   \n",
       "21                53          University of Arizona College of Medicine   \n",
       "22                37  Lincoln Memorial University DeBusk College of ...   \n",
       "23               197       University of Mississippi School of Medicine   \n",
       "24               192             University of Minnesota Medical School   \n",
       "25               132  University of Massachusetts T.H. Chan School o...   \n",
       "26               289       University of Puerto Rico School of Medicine   \n",
       "27                22  Kansas City University of Medicine and Bioscie...   \n",
       "28                31  Ohio University Heritage College of Osteopathi...   \n",
       "29               128               Tulane University School of Medicine   \n",
       "30               181  Uniformed Services University of the Health Sc...   \n",
       "31                97         University of Illinois College of Medicine   \n",
       "32               228                             Albany Medical College   \n",
       "33                 4  Midwestern University Arizona College of Osteo...   \n",
       "34                43         Edward Via College of Osteopathic Medicine   \n",
       "35                72                            Yale School of Medicine   \n",
       "36               130                             Harvard Medical School   \n",
       "37               261                  Northeast Ohio Medical University   \n",
       "38                85   Medical College of Georgia at Augusta University   \n",
       "39               286                           Ponce School of Medicine   \n",
       "40                92  Loyola University Chicago Stritch School of Me...   \n",
       "41              2635                          Michigan State University   \n",
       "42                46       West Virginia School of Osteopathic Medicine   \n",
       "43                73  George Washington University School of Medicin...   \n",
       "44               395  University of Texas Medical Branch School of M...   \n",
       "45                39  University of North Texas Health Science Cente...   \n",
       "46               474        West Virginia University School of Medicine   \n",
       "47               277  Lewis Katz School of Medicine at Temple Univer...   \n",
       "48               386                         Baylor College of Medicine   \n",
       "49               188          Wayne State University School of Medicine   \n",
       "50               187              University of Michigan Medical School   \n",
       "51               397    University of Texas Southwestern Medical School   \n",
       "52                24  Campbell University School of Osteopathic Medi...   \n",
       "53               432          University of Virginia School of Medicine   \n",
       "54                19  University of New England College of Osteopath...   \n",
       "55               195  University of Missouri-Kansas City School of M...   \n",
       "56              2786                           University of Washington   \n",
       "57               433  Virginia Commonwealth University School of Med...   \n",
       "58               234  Jacobs School of Medicine and Biomedical Scien...   \n",
       "59                82  University of Miami Leonard M. Miller School o...   \n",
       "60               398              University of Utah School of Medicine   \n",
       "61                 5  A.T. Still University School of Osteopathic Me...   \n",
       "62                11  Nova Southeastern University Dr. Kiran C. Pate...   \n",
       "63               123            University of Kansas School of Medicine   \n",
       "64               205            Creighton University School of Medicine   \n",
       "65               227      University of Nevada, Reno School of Medicine   \n",
       "66               440  Washington State University Elson S. Floyd Col...   \n",
       "67               471                       Medical College of Wisconsin   \n",
       "68               202  University of North Carolina at Chapel Hill Sc...   \n",
       "69               392  The University of Texas Health Science Center ...   \n",
       "70                59  Keck School of Medicine of the University of S...   \n",
       "71               262          Ohio State University College of Medicine   \n",
       "72               387  McGovern Medical School at the University of T...   \n",
       "73                14              Idaho College of Osteopathic Medicine   \n",
       "74               206         University of Nebraska College of Medicine   \n",
       "\n",
       "    total_students  n_paid_subs  conversion_rate  \n",
       "0             3064         1313            42.85  \n",
       "1             2363         1127            47.69  \n",
       "2             2479          920            37.11  \n",
       "3             2366          404            17.08  \n",
       "4             2264          503            22.22  \n",
       "5             1784          955            53.53  \n",
       "6             1835          510            27.79  \n",
       "7             1598          724            45.31  \n",
       "8             1295          976            75.37  \n",
       "9             1474          755            51.22  \n",
       "10            1777          443            24.93  \n",
       "11            1348          825            61.20  \n",
       "12            1615          531            32.88  \n",
       "13            1452          553            38.09  \n",
       "14            1429          497            34.78  \n",
       "15            1381          536            38.81  \n",
       "16            1676          218            13.01  \n",
       "17            1629          262            16.08  \n",
       "18            1353          492            36.36  \n",
       "19            1383          405            29.28  \n",
       "20            1451          290            19.99  \n",
       "21            1524          207            13.58  \n",
       "22            1438          262            18.22  \n",
       "23            1264          422            33.39  \n",
       "24            1428          238            16.67  \n",
       "25            1276          376            29.47  \n",
       "26            1190          452            37.98  \n",
       "27            1067          559            52.39  \n",
       "28            1303          301            23.10  \n",
       "29            1301          300            23.06  \n",
       "30            1179          416            35.28  \n",
       "31            1324          256            19.34  \n",
       "32            1063          474            44.59  \n",
       "33             913          563            61.66  \n",
       "34            1062          393            37.01  \n",
       "35             967          483            49.95  \n",
       "36            1292          144            11.15  \n",
       "37            1160          271            23.36  \n",
       "38            1247          183            14.68  \n",
       "39             998          428            42.89  \n",
       "40            1198          195            16.28  \n",
       "41            1325           21             1.58  \n",
       "42            1090          249            22.84  \n",
       "43            1190          147            12.35  \n",
       "44            1049          277            26.41  \n",
       "45            1131          185            16.36  \n",
       "46            1004          307            30.58  \n",
       "47            1143          156            13.65  \n",
       "48             880          410            46.59  \n",
       "49            1087          202            18.58  \n",
       "50            1189           87             7.32  \n",
       "51            1028          219            21.30  \n",
       "52            1045          184            17.61  \n",
       "53            1117          102             9.13  \n",
       "54            1006          186            18.49  \n",
       "55             752          406            53.99  \n",
       "56            1049          107            10.20  \n",
       "57            1029          125            12.15  \n",
       "58             998          153            15.33  \n",
       "59             918          230            25.05  \n",
       "60             833          288            34.57  \n",
       "61             950          139            14.63  \n",
       "62             806          281            34.86  \n",
       "63             946          124            13.11  \n",
       "64             980           90             9.18  \n",
       "65             750          308            41.07  \n",
       "66             649          404            62.25  \n",
       "67             952           99            10.40  \n",
       "68             863          182            21.09  \n",
       "69             645          378            58.60  \n",
       "70             930           86             9.25  \n",
       "71             859          156            18.16  \n",
       "72             878          124            14.12  \n",
       "73             587          413            70.36  \n",
       "74             885          100            11.30  "
      ]
     },
     "execution_count": 3,
     "metadata": {},
     "output_type": "execute_result"
    }
   ],
   "source": [
    "q = \"\"\"\n",
    "select\n",
    "    university_id_pk,\n",
    "    university_name,\n",
    "    count(user_id_pk) as total_students,\n",
    "    sum(case when transaction_type = \"PAID\" then 1 else 0 end) as n_paid_subs,\n",
    "    ROUND(100 * SUM(CASE WHEN transaction_type = \"PAID\" THEN 1 ELSE 0 END) / CAST(COUNT(user_id_pk) AS FLOAT), 2) conversion_rate\n",
    "from joined_df\n",
    "where (payment_number = 1 or payment_number is null)\n",
    "and country = \"United States of America\"\n",
    "and university_name != \"Other\"\n",
    "group by 1,2\n",
    "order by total_students + n_paid_subs desc\n",
    "limit 75\n",
    "\"\"\"\n",
    "\n",
    "pysqldf(q)"
   ]
  },
  {
   "cell_type": "code",
   "execution_count": 4,
   "metadata": {},
   "outputs": [],
   "source": [
    "q = \"\"\"\n",
    "with paid_subs as (\n",
    "    select\n",
    "        university_id_pk,\n",
    "        university_name,\n",
    "        sum(case when transaction_type = \"PAID\" then 1 else 0 end) as n_students,\n",
    "        \"paid\" as payment_status\n",
    "    from joined_df\n",
    "    where (payment_number = 1 or payment_number is null)\n",
    "    and country = \"United States of America\"\n",
    "    and university_name != \"Other\"\n",
    "    group by 1,2\n",
    "    order by 3 desc\n",
    "    limit 75\n",
    "),\n",
    "total_subs as (\n",
    "    select\n",
    "        university_id_pk,\n",
    "        university_name,\n",
    "        count(user_id_pk) as n_students,\n",
    "        \"total\" as payment_status\n",
    "    from joined_df\n",
    "    where (payment_number = 1 or payment_number is null)\n",
    "    and country = \"United States of America\"\n",
    "    and university_name != \"Other\"\n",
    "    and university_id_pk in (select university_id_pk from paid_subs)\n",
    "    group by 1,2\n",
    ")\n",
    "\n",
    "select * from paid_subs\n",
    "union\n",
    "select * from total_subs\n",
    "\"\"\"\n",
    "\n",
    "sub_breakdown = pysqldf(q)"
   ]
  },
  {
   "cell_type": "code",
   "execution_count": 5,
   "metadata": {},
   "outputs": [
    {
     "data": {
      "application/vnd.plotly.v1+json": {
       "config": {
        "plotlyServerURL": "https://plot.ly"
       },
       "data": [
        {
         "alignmentgroup": "True",
         "bingroup": "x",
         "histfunc": "sum",
         "hovertemplate": "payment_status=paid<br>university_name=%{x}<br>sum of n_students=%{y}<extra></extra>",
         "legendgroup": "paid",
         "marker": {
          "color": "#636efa",
          "pattern": {
           "shape": ""
          }
         },
         "name": "paid",
         "offsetgroup": "paid",
         "orientation": "v",
         "showlegend": true,
         "type": "histogram",
         "x": [
          "Midwestern University Arizona College of Osteopathic Medicine",
          "Western University of Health Sciences College of Osteopathic Medicine of the Pacific",
          "Rocky Vista University College of Osteopathic Medicine",
          "Lake Erie College of Osteopathic Medicine",
          "Nova Southeastern University Dr. Kiran C. Patel College of Osteopathic Medicine",
          "Des Moines University College of Osteopathic Medicine",
          "Idaho College of Osteopathic Medicine",
          "Midwestern University Chicago College of Osteopathic Medicine",
          "University of Pikeville Kentucky College of Osteopathic Medicine",
          "University of New England College of Osteopathic Medicine",
          "Michigan State University College of Osteopathic Medicine",
          "A. T. Still University Kirksville College of Osteopathic Medicine",
          "Kansas City University of Medicine and Biosciences College of Osteopathic Medicine",
          "Campbell University School of Osteopathic Medicine",
          "New York Institute of Technology College of Osteopathic Medicine",
          "Touro College of Osteopathic Medicine",
          "Ohio University Heritage College of Osteopathic Medicine",
          "Oklahoma State University Center for Health Sciences College of Osteopathic Medicine",
          "Philadelphia College of Osteopathic Medicine",
          "Lincoln Memorial University DeBusk College of Osteopathic Medicine",
          "University of North Texas Health Science Center Texas College of Osteopathic Medicine",
          "Rocky Vista University College of Osteopathic Medicine – Southern Utah Campus",
          "Edward Via College of Osteopathic Medicine",
          "West Virginia School of Osteopathic Medicine",
          "University of Alabama at Birmingham Marnix E. Heersink School of Medicine",
          "University of Arkansas for Medical Sciences College of Medicine",
          "University of Arizona College of Medicine",
          "Kaiser Permanente Bernard J. Tyson School of Medicine",
          "Loma Linda University School of Medicine",
          "University of California, Irvine, School of Medicine",
          "Yale School of Medicine",
          "Georgetown University School of Medicine",
          "University of Miami Leonard M. Miller School of Medicine",
          "USF Health Morsani College of Medicine",
          "Medical College of Georgia at Augusta University",
          "Loyola University Chicago Stritch School of Medicine",
          "Southern Illinois University School of Medicine",
          "University of Illinois College of Medicine",
          "Indiana University School of Medicine",
          "Louisiana State University School of Medicine in New Orleans",
          "Tulane University School of Medicine",
          "Tufts University School of Medicine",
          "University of Massachusetts T.H. Chan School of Medicine",
          "Uniformed Services University of the Health Sciences F. Edward Hebert School of Medicine",
          "Wayne State University School of Medicine",
          "University of Minnesota Medical School",
          "Saint Louis University School of Medicine",
          "University of Missouri-Kansas City School of Medicine",
          "University of Mississippi School of Medicine",
          "Wake Forest School of Medicine of Wake Forest Baptist Medical Center",
          "University of Nevada, Reno School of Medicine",
          "Albany Medical College",
          "Northeast Ohio Medical University",
          "University of Oklahoma College of Medicine",
          "Drexel University College of Medicine",
          "Sidney Kimmel Medical College at Thomas Jefferson University",
          "Ponce School of Medicine",
          "Universidad Central del Caribe School of Medicine",
          "University of Puerto Rico School of Medicine",
          "University of South Carolina School of Medicine Columbia",
          "East Tennessee State University James H. Quillen College of Medicine",
          "University of Tennessee Health Science Center College of Medicine",
          "Baylor College of Medicine",
          "Texas A&M Health Science Center College of Medicine",
          "Texas Tech University Health Sciences Center School of Medicine",
          "The University of Texas Health Science Center at San Antonio Joe R. and Teresa Lozano Long School of Medicine",
          "University of Texas Medical Branch School of Medicine",
          "University of Texas Southwestern Medical School",
          "University of Utah School of Medicine",
          "University of Washington School of Medicine",
          "Washington State University Elson S. Floyd College of Medicine",
          "Marshall University Joan C. Edwards School of Medicine",
          "West Virginia University School of Medicine",
          "Kent State University College of Podiatric Medicine",
          "New York Medical College"
         ],
         "xaxis": "x",
         "y": [
          563,
          503,
          405,
          1127,
          281,
          510,
          413,
          404,
          220,
          186,
          233,
          184,
          559,
          184,
          290,
          1313,
          301,
          825,
          920,
          262,
          185,
          183,
          393,
          249,
          531,
          724,
          207,
          189,
          309,
          215,
          483,
          443,
          230,
          224,
          183,
          195,
          230,
          256,
          497,
          262,
          300,
          251,
          376,
          416,
          202,
          238,
          976,
          406,
          422,
          755,
          308,
          474,
          271,
          536,
          227,
          218,
          428,
          211,
          452,
          235,
          187,
          492,
          410,
          235,
          955,
          378,
          277,
          219,
          288,
          230,
          404,
          278,
          307,
          260,
          553
         ],
         "yaxis": "y"
        },
        {
         "alignmentgroup": "True",
         "bingroup": "x",
         "histfunc": "sum",
         "hovertemplate": "payment_status=total<br>university_name=%{x}<br>sum of n_students=%{y}<extra></extra>",
         "legendgroup": "total",
         "marker": {
          "color": "#EF553B",
          "pattern": {
           "shape": ""
          }
         },
         "name": "total",
         "offsetgroup": "total",
         "orientation": "v",
         "showlegend": true,
         "type": "histogram",
         "x": [
          "Midwestern University Arizona College of Osteopathic Medicine",
          "Western University of Health Sciences College of Osteopathic Medicine of the Pacific",
          "Rocky Vista University College of Osteopathic Medicine",
          "Lake Erie College of Osteopathic Medicine",
          "Nova Southeastern University Dr. Kiran C. Patel College of Osteopathic Medicine",
          "Des Moines University College of Osteopathic Medicine",
          "Idaho College of Osteopathic Medicine",
          "Midwestern University Chicago College of Osteopathic Medicine",
          "University of Pikeville Kentucky College of Osteopathic Medicine",
          "University of New England College of Osteopathic Medicine",
          "Michigan State University College of Osteopathic Medicine",
          "A. T. Still University Kirksville College of Osteopathic Medicine",
          "Kansas City University of Medicine and Biosciences College of Osteopathic Medicine",
          "Campbell University School of Osteopathic Medicine",
          "New York Institute of Technology College of Osteopathic Medicine",
          "Touro College of Osteopathic Medicine",
          "Ohio University Heritage College of Osteopathic Medicine",
          "Oklahoma State University Center for Health Sciences College of Osteopathic Medicine",
          "Philadelphia College of Osteopathic Medicine",
          "Lincoln Memorial University DeBusk College of Osteopathic Medicine",
          "University of North Texas Health Science Center Texas College of Osteopathic Medicine",
          "Rocky Vista University College of Osteopathic Medicine – Southern Utah Campus",
          "Edward Via College of Osteopathic Medicine",
          "West Virginia School of Osteopathic Medicine",
          "University of Alabama at Birmingham Marnix E. Heersink School of Medicine",
          "University of Arkansas for Medical Sciences College of Medicine",
          "University of Arizona College of Medicine",
          "Kaiser Permanente Bernard J. Tyson School of Medicine",
          "Loma Linda University School of Medicine",
          "University of California, Irvine, School of Medicine",
          "Yale School of Medicine",
          "Georgetown University School of Medicine",
          "University of Miami Leonard M. Miller School of Medicine",
          "USF Health Morsani College of Medicine",
          "Medical College of Georgia at Augusta University",
          "Loyola University Chicago Stritch School of Medicine",
          "Southern Illinois University School of Medicine",
          "University of Illinois College of Medicine",
          "Indiana University School of Medicine",
          "Louisiana State University School of Medicine in New Orleans",
          "Tulane University School of Medicine",
          "Tufts University School of Medicine",
          "University of Massachusetts T.H. Chan School of Medicine",
          "Uniformed Services University of the Health Sciences F. Edward Hebert School of Medicine",
          "Wayne State University School of Medicine",
          "University of Minnesota Medical School",
          "Saint Louis University School of Medicine",
          "University of Missouri-Kansas City School of Medicine",
          "University of Mississippi School of Medicine",
          "Wake Forest School of Medicine of Wake Forest Baptist Medical Center",
          "University of Nevada, Reno School of Medicine",
          "Albany Medical College",
          "Northeast Ohio Medical University",
          "University of Oklahoma College of Medicine",
          "Drexel University College of Medicine",
          "Sidney Kimmel Medical College at Thomas Jefferson University",
          "Ponce School of Medicine",
          "Universidad Central del Caribe School of Medicine",
          "University of Puerto Rico School of Medicine",
          "University of South Carolina School of Medicine Columbia",
          "East Tennessee State University James H. Quillen College of Medicine",
          "University of Tennessee Health Science Center College of Medicine",
          "Baylor College of Medicine",
          "Texas A&M Health Science Center College of Medicine",
          "Texas Tech University Health Sciences Center School of Medicine",
          "The University of Texas Health Science Center at San Antonio Joe R. and Teresa Lozano Long School of Medicine",
          "University of Texas Medical Branch School of Medicine",
          "University of Texas Southwestern Medical School",
          "University of Utah School of Medicine",
          "University of Washington School of Medicine",
          "Washington State University Elson S. Floyd College of Medicine",
          "Marshall University Joan C. Edwards School of Medicine",
          "West Virginia University School of Medicine",
          "Kent State University College of Podiatric Medicine",
          "New York Medical College"
         ],
         "xaxis": "x",
         "y": [
          913,
          2264,
          1383,
          2363,
          806,
          1835,
          587,
          2366,
          348,
          1006,
          577,
          408,
          1067,
          1045,
          1451,
          3064,
          1303,
          1348,
          2479,
          1438,
          1131,
          338,
          1062,
          1090,
          1615,
          1598,
          1524,
          214,
          564,
          373,
          967,
          1777,
          918,
          537,
          1247,
          1198,
          498,
          1324,
          1429,
          1629,
          1301,
          483,
          1276,
          1179,
          1087,
          1428,
          1295,
          752,
          1264,
          1474,
          750,
          1063,
          1160,
          1381,
          610,
          1676,
          998,
          491,
          1190,
          715,
          627,
          1353,
          880,
          677,
          1784,
          645,
          1049,
          1028,
          833,
          638,
          649,
          362,
          1004,
          288,
          1452
         ],
         "yaxis": "y"
        }
       ],
       "layout": {
        "barmode": "group",
        "height": 600,
        "legend": {
         "title": {
          "text": "Subscription Status"
         },
         "tracegroupgap": 0,
         "x": 0.8,
         "xanchor": "left",
         "y": 0.99,
         "yanchor": "top"
        },
        "margin": {
         "t": 60
        },
        "showlegend": true,
        "template": {
         "data": {
          "bar": [
           {
            "error_x": {
             "color": "#2a3f5f"
            },
            "error_y": {
             "color": "#2a3f5f"
            },
            "marker": {
             "line": {
              "color": "#E5ECF6",
              "width": 0.5
             },
             "pattern": {
              "fillmode": "overlay",
              "size": 10,
              "solidity": 0.2
             }
            },
            "type": "bar"
           }
          ],
          "barpolar": [
           {
            "marker": {
             "line": {
              "color": "#E5ECF6",
              "width": 0.5
             },
             "pattern": {
              "fillmode": "overlay",
              "size": 10,
              "solidity": 0.2
             }
            },
            "type": "barpolar"
           }
          ],
          "carpet": [
           {
            "aaxis": {
             "endlinecolor": "#2a3f5f",
             "gridcolor": "white",
             "linecolor": "white",
             "minorgridcolor": "white",
             "startlinecolor": "#2a3f5f"
            },
            "baxis": {
             "endlinecolor": "#2a3f5f",
             "gridcolor": "white",
             "linecolor": "white",
             "minorgridcolor": "white",
             "startlinecolor": "#2a3f5f"
            },
            "type": "carpet"
           }
          ],
          "choropleth": [
           {
            "colorbar": {
             "outlinewidth": 0,
             "ticks": ""
            },
            "type": "choropleth"
           }
          ],
          "contour": [
           {
            "colorbar": {
             "outlinewidth": 0,
             "ticks": ""
            },
            "colorscale": [
             [
              0,
              "#0d0887"
             ],
             [
              0.1111111111111111,
              "#46039f"
             ],
             [
              0.2222222222222222,
              "#7201a8"
             ],
             [
              0.3333333333333333,
              "#9c179e"
             ],
             [
              0.4444444444444444,
              "#bd3786"
             ],
             [
              0.5555555555555556,
              "#d8576b"
             ],
             [
              0.6666666666666666,
              "#ed7953"
             ],
             [
              0.7777777777777778,
              "#fb9f3a"
             ],
             [
              0.8888888888888888,
              "#fdca26"
             ],
             [
              1,
              "#f0f921"
             ]
            ],
            "type": "contour"
           }
          ],
          "contourcarpet": [
           {
            "colorbar": {
             "outlinewidth": 0,
             "ticks": ""
            },
            "type": "contourcarpet"
           }
          ],
          "heatmap": [
           {
            "colorbar": {
             "outlinewidth": 0,
             "ticks": ""
            },
            "colorscale": [
             [
              0,
              "#0d0887"
             ],
             [
              0.1111111111111111,
              "#46039f"
             ],
             [
              0.2222222222222222,
              "#7201a8"
             ],
             [
              0.3333333333333333,
              "#9c179e"
             ],
             [
              0.4444444444444444,
              "#bd3786"
             ],
             [
              0.5555555555555556,
              "#d8576b"
             ],
             [
              0.6666666666666666,
              "#ed7953"
             ],
             [
              0.7777777777777778,
              "#fb9f3a"
             ],
             [
              0.8888888888888888,
              "#fdca26"
             ],
             [
              1,
              "#f0f921"
             ]
            ],
            "type": "heatmap"
           }
          ],
          "heatmapgl": [
           {
            "colorbar": {
             "outlinewidth": 0,
             "ticks": ""
            },
            "colorscale": [
             [
              0,
              "#0d0887"
             ],
             [
              0.1111111111111111,
              "#46039f"
             ],
             [
              0.2222222222222222,
              "#7201a8"
             ],
             [
              0.3333333333333333,
              "#9c179e"
             ],
             [
              0.4444444444444444,
              "#bd3786"
             ],
             [
              0.5555555555555556,
              "#d8576b"
             ],
             [
              0.6666666666666666,
              "#ed7953"
             ],
             [
              0.7777777777777778,
              "#fb9f3a"
             ],
             [
              0.8888888888888888,
              "#fdca26"
             ],
             [
              1,
              "#f0f921"
             ]
            ],
            "type": "heatmapgl"
           }
          ],
          "histogram": [
           {
            "marker": {
             "pattern": {
              "fillmode": "overlay",
              "size": 10,
              "solidity": 0.2
             }
            },
            "type": "histogram"
           }
          ],
          "histogram2d": [
           {
            "colorbar": {
             "outlinewidth": 0,
             "ticks": ""
            },
            "colorscale": [
             [
              0,
              "#0d0887"
             ],
             [
              0.1111111111111111,
              "#46039f"
             ],
             [
              0.2222222222222222,
              "#7201a8"
             ],
             [
              0.3333333333333333,
              "#9c179e"
             ],
             [
              0.4444444444444444,
              "#bd3786"
             ],
             [
              0.5555555555555556,
              "#d8576b"
             ],
             [
              0.6666666666666666,
              "#ed7953"
             ],
             [
              0.7777777777777778,
              "#fb9f3a"
             ],
             [
              0.8888888888888888,
              "#fdca26"
             ],
             [
              1,
              "#f0f921"
             ]
            ],
            "type": "histogram2d"
           }
          ],
          "histogram2dcontour": [
           {
            "colorbar": {
             "outlinewidth": 0,
             "ticks": ""
            },
            "colorscale": [
             [
              0,
              "#0d0887"
             ],
             [
              0.1111111111111111,
              "#46039f"
             ],
             [
              0.2222222222222222,
              "#7201a8"
             ],
             [
              0.3333333333333333,
              "#9c179e"
             ],
             [
              0.4444444444444444,
              "#bd3786"
             ],
             [
              0.5555555555555556,
              "#d8576b"
             ],
             [
              0.6666666666666666,
              "#ed7953"
             ],
             [
              0.7777777777777778,
              "#fb9f3a"
             ],
             [
              0.8888888888888888,
              "#fdca26"
             ],
             [
              1,
              "#f0f921"
             ]
            ],
            "type": "histogram2dcontour"
           }
          ],
          "mesh3d": [
           {
            "colorbar": {
             "outlinewidth": 0,
             "ticks": ""
            },
            "type": "mesh3d"
           }
          ],
          "parcoords": [
           {
            "line": {
             "colorbar": {
              "outlinewidth": 0,
              "ticks": ""
             }
            },
            "type": "parcoords"
           }
          ],
          "pie": [
           {
            "automargin": true,
            "type": "pie"
           }
          ],
          "scatter": [
           {
            "fillpattern": {
             "fillmode": "overlay",
             "size": 10,
             "solidity": 0.2
            },
            "type": "scatter"
           }
          ],
          "scatter3d": [
           {
            "line": {
             "colorbar": {
              "outlinewidth": 0,
              "ticks": ""
             }
            },
            "marker": {
             "colorbar": {
              "outlinewidth": 0,
              "ticks": ""
             }
            },
            "type": "scatter3d"
           }
          ],
          "scattercarpet": [
           {
            "marker": {
             "colorbar": {
              "outlinewidth": 0,
              "ticks": ""
             }
            },
            "type": "scattercarpet"
           }
          ],
          "scattergeo": [
           {
            "marker": {
             "colorbar": {
              "outlinewidth": 0,
              "ticks": ""
             }
            },
            "type": "scattergeo"
           }
          ],
          "scattergl": [
           {
            "marker": {
             "colorbar": {
              "outlinewidth": 0,
              "ticks": ""
             }
            },
            "type": "scattergl"
           }
          ],
          "scattermapbox": [
           {
            "marker": {
             "colorbar": {
              "outlinewidth": 0,
              "ticks": ""
             }
            },
            "type": "scattermapbox"
           }
          ],
          "scatterpolar": [
           {
            "marker": {
             "colorbar": {
              "outlinewidth": 0,
              "ticks": ""
             }
            },
            "type": "scatterpolar"
           }
          ],
          "scatterpolargl": [
           {
            "marker": {
             "colorbar": {
              "outlinewidth": 0,
              "ticks": ""
             }
            },
            "type": "scatterpolargl"
           }
          ],
          "scatterternary": [
           {
            "marker": {
             "colorbar": {
              "outlinewidth": 0,
              "ticks": ""
             }
            },
            "type": "scatterternary"
           }
          ],
          "surface": [
           {
            "colorbar": {
             "outlinewidth": 0,
             "ticks": ""
            },
            "colorscale": [
             [
              0,
              "#0d0887"
             ],
             [
              0.1111111111111111,
              "#46039f"
             ],
             [
              0.2222222222222222,
              "#7201a8"
             ],
             [
              0.3333333333333333,
              "#9c179e"
             ],
             [
              0.4444444444444444,
              "#bd3786"
             ],
             [
              0.5555555555555556,
              "#d8576b"
             ],
             [
              0.6666666666666666,
              "#ed7953"
             ],
             [
              0.7777777777777778,
              "#fb9f3a"
             ],
             [
              0.8888888888888888,
              "#fdca26"
             ],
             [
              1,
              "#f0f921"
             ]
            ],
            "type": "surface"
           }
          ],
          "table": [
           {
            "cells": {
             "fill": {
              "color": "#EBF0F8"
             },
             "line": {
              "color": "white"
             }
            },
            "header": {
             "fill": {
              "color": "#C8D4E3"
             },
             "line": {
              "color": "white"
             }
            },
            "type": "table"
           }
          ]
         },
         "layout": {
          "annotationdefaults": {
           "arrowcolor": "#2a3f5f",
           "arrowhead": 0,
           "arrowwidth": 1
          },
          "autotypenumbers": "strict",
          "coloraxis": {
           "colorbar": {
            "outlinewidth": 0,
            "ticks": ""
           }
          },
          "colorscale": {
           "diverging": [
            [
             0,
             "#8e0152"
            ],
            [
             0.1,
             "#c51b7d"
            ],
            [
             0.2,
             "#de77ae"
            ],
            [
             0.3,
             "#f1b6da"
            ],
            [
             0.4,
             "#fde0ef"
            ],
            [
             0.5,
             "#f7f7f7"
            ],
            [
             0.6,
             "#e6f5d0"
            ],
            [
             0.7,
             "#b8e186"
            ],
            [
             0.8,
             "#7fbc41"
            ],
            [
             0.9,
             "#4d9221"
            ],
            [
             1,
             "#276419"
            ]
           ],
           "sequential": [
            [
             0,
             "#0d0887"
            ],
            [
             0.1111111111111111,
             "#46039f"
            ],
            [
             0.2222222222222222,
             "#7201a8"
            ],
            [
             0.3333333333333333,
             "#9c179e"
            ],
            [
             0.4444444444444444,
             "#bd3786"
            ],
            [
             0.5555555555555556,
             "#d8576b"
            ],
            [
             0.6666666666666666,
             "#ed7953"
            ],
            [
             0.7777777777777778,
             "#fb9f3a"
            ],
            [
             0.8888888888888888,
             "#fdca26"
            ],
            [
             1,
             "#f0f921"
            ]
           ],
           "sequentialminus": [
            [
             0,
             "#0d0887"
            ],
            [
             0.1111111111111111,
             "#46039f"
            ],
            [
             0.2222222222222222,
             "#7201a8"
            ],
            [
             0.3333333333333333,
             "#9c179e"
            ],
            [
             0.4444444444444444,
             "#bd3786"
            ],
            [
             0.5555555555555556,
             "#d8576b"
            ],
            [
             0.6666666666666666,
             "#ed7953"
            ],
            [
             0.7777777777777778,
             "#fb9f3a"
            ],
            [
             0.8888888888888888,
             "#fdca26"
            ],
            [
             1,
             "#f0f921"
            ]
           ]
          },
          "colorway": [
           "#636efa",
           "#EF553B",
           "#00cc96",
           "#ab63fa",
           "#FFA15A",
           "#19d3f3",
           "#FF6692",
           "#B6E880",
           "#FF97FF",
           "#FECB52"
          ],
          "font": {
           "color": "#2a3f5f"
          },
          "geo": {
           "bgcolor": "white",
           "lakecolor": "white",
           "landcolor": "#E5ECF6",
           "showlakes": true,
           "showland": true,
           "subunitcolor": "white"
          },
          "hoverlabel": {
           "align": "left"
          },
          "hovermode": "closest",
          "mapbox": {
           "style": "light"
          },
          "paper_bgcolor": "white",
          "plot_bgcolor": "#E5ECF6",
          "polar": {
           "angularaxis": {
            "gridcolor": "white",
            "linecolor": "white",
            "ticks": ""
           },
           "bgcolor": "#E5ECF6",
           "radialaxis": {
            "gridcolor": "white",
            "linecolor": "white",
            "ticks": ""
           }
          },
          "scene": {
           "xaxis": {
            "backgroundcolor": "#E5ECF6",
            "gridcolor": "white",
            "gridwidth": 2,
            "linecolor": "white",
            "showbackground": true,
            "ticks": "",
            "zerolinecolor": "white"
           },
           "yaxis": {
            "backgroundcolor": "#E5ECF6",
            "gridcolor": "white",
            "gridwidth": 2,
            "linecolor": "white",
            "showbackground": true,
            "ticks": "",
            "zerolinecolor": "white"
           },
           "zaxis": {
            "backgroundcolor": "#E5ECF6",
            "gridcolor": "white",
            "gridwidth": 2,
            "linecolor": "white",
            "showbackground": true,
            "ticks": "",
            "zerolinecolor": "white"
           }
          },
          "shapedefaults": {
           "line": {
            "color": "#2a3f5f"
           }
          },
          "ternary": {
           "aaxis": {
            "gridcolor": "white",
            "linecolor": "white",
            "ticks": ""
           },
           "baxis": {
            "gridcolor": "white",
            "linecolor": "white",
            "ticks": ""
           },
           "bgcolor": "#E5ECF6",
           "caxis": {
            "gridcolor": "white",
            "linecolor": "white",
            "ticks": ""
           }
          },
          "title": {
           "x": 0.05
          },
          "xaxis": {
           "automargin": true,
           "gridcolor": "white",
           "linecolor": "white",
           "ticks": "",
           "title": {
            "standoff": 15
           },
           "zerolinecolor": "white",
           "zerolinewidth": 2
          },
          "yaxis": {
           "automargin": true,
           "gridcolor": "white",
           "linecolor": "white",
           "ticks": "",
           "title": {
            "standoff": 15
           },
           "zerolinecolor": "white",
           "zerolinewidth": 2
          }
         }
        },
        "title": {
         "text": "Paid Subscribers vs. Total Students by University"
        },
        "xaxis": {
         "anchor": "y",
         "categoryorder": "total descending",
         "domain": [
          0,
          1
         ],
         "tickmode": "array",
         "ticktext": [
          "Midwestern University Arizona College of Osteopathic Medicine",
          "Midwestern University Arizona College of Osteopathic Medicine",
          "Western University of Health Sciences College of Osteopathic Medicine of the Pacific",
          "Western University of Health Sciences College of Osteopathic Medicine of the Pacific",
          "Rocky Vista University College of Osteopathic Medicine",
          "Rocky Vista University College of Osteopathic Medicine",
          "Lake Erie College of Osteopathic Medicine",
          "Lake Erie College of Osteopathic Medicine",
          "Nova Southeastern University Dr. Kiran C. Patel College of Osteopathic Medicine",
          "Nova Southeastern University Dr. Kiran C. Patel College of Osteopathic Medicine",
          "Des Moines University College of Osteopathic Medicine",
          "Des Moines University College of Osteopathic Medicine",
          "Idaho College of Osteopathic Medicine",
          "Idaho College of Osteopathic Medicine",
          "Midwestern University Chicago College of Osteopathic Medicine",
          "Midwestern University Chicago College of Osteopathic Medicine",
          "University of Pikeville Kentucky College of Osteopathic Medicine",
          "University of Pikeville Kentucky College of Osteopathic Medicine",
          "University of New England College of Osteopathic Medicine",
          "University of New England College of Osteopathic Medicine",
          "Michigan State University College of Osteopathic Medicine",
          "Michigan State University College of Osteopathic Medicine",
          "A. T. Still University Kirksville College of Osteopathic Medicine",
          "A. T. Still University Kirksville College of Osteopathic Medicine",
          "Kansas City University of Medicine and Biosciences College of Osteopathic Medicine",
          "Kansas City University of Medicine and Biosciences College of Osteopathic Medicine",
          "Campbell University School of Osteopathic Medicine",
          "Campbell University School of Osteopathic Medicine",
          "New York Institute of Technology College of Osteopathic Medicine",
          "New York Institute of Technology College of Osteopathic Medicine",
          "Touro College of Osteopathic Medicine",
          "Touro College of Osteopathic Medicine",
          "Ohio University Heritage College of Osteopathic Medicine",
          "Ohio University Heritage College of Osteopathic Medicine",
          "Oklahoma State University Center for Health Sciences College of Osteopathic Medicine",
          "Oklahoma State University Center for Health Sciences College of Osteopathic Medicine",
          "Philadelphia College of Osteopathic Medicine",
          "Philadelphia College of Osteopathic Medicine",
          "Lincoln Memorial University DeBusk College of Osteopathic Medicine",
          "Lincoln Memorial University DeBusk College of Osteopathic Medicine",
          "University of North Texas Health Science Center Texas College of Osteopathic Medicine",
          "University of North Texas Health Science Center Texas College of Osteopathic Medicine",
          "Rocky Vista University College of Osteopathic Medicine – Southern Utah Campus",
          "Rocky Vista University College of Osteopathic Medicine – Southern Utah Campus",
          "Edward Via College of Osteopathic Medicine",
          "Edward Via College of Osteopathic Medicine",
          "West Virginia School of Osteopathic Medicine",
          "West Virginia School of Osteopathic Medicine",
          "University of Alabama at Birmingham Marnix E. Heersink School of Medicine",
          "University of Alabama at Birmingham Marnix E. Heersink School of Medicine",
          "University of Arkansas for Medical Sciences College of Medicine",
          "University of Arkansas for Medical Sciences College of Medicine",
          "University of Arizona College of Medicine",
          "University of Arizona College of Medicine",
          "Kaiser Permanente Bernard J. Tyson School of Medicine",
          "Kaiser Permanente Bernard J. Tyson School of Medicine",
          "Loma Linda University School of Medicine",
          "Loma Linda University School of Medicine",
          "University of California, Irvine, School of Medicine",
          "University of California, Irvine, School of Medicine",
          "Yale School of Medicine",
          "Yale School of Medicine",
          "Georgetown University School of Medicine",
          "Georgetown University School of Medicine",
          "University of Miami Leonard M. Miller School of Medicine",
          "University of Miami Leonard M. Miller School of Medicine",
          "USF Health Morsani College of Medicine",
          "USF Health Morsani College of Medicine",
          "Medical College of Georgia at Augusta University",
          "Medical College of Georgia at Augusta University",
          "Loyola University Chicago Stritch School of Medicine",
          "Loyola University Chicago Stritch School of Medicine",
          "Southern Illinois University School of Medicine",
          "Southern Illinois University School of Medicine",
          "University of Illinois College of Medicine",
          "University of Illinois College of Medicine",
          "Indiana University School of Medicine",
          "Indiana University School of Medicine",
          "Louisiana State University School of Medicine in New Orleans",
          "Louisiana State University School of Medicine in New Orleans",
          "Tulane University School of Medicine",
          "Tulane University School of Medicine",
          "Tufts University School of Medicine",
          "Tufts University School of Medicine",
          "University of Massachusetts T.H. Chan School of Medicine",
          "University of Massachusetts T.H. Chan School of Medicine",
          "Uniformed Services University of the Health Sciences F. Edward Hebert School of Medicine",
          "Uniformed Services University of the Health Sciences F. Edward Hebert School of Medicine",
          "Wayne State University School of Medicine",
          "Wayne State University School of Medicine",
          "University of Minnesota Medical School",
          "University of Minnesota Medical School",
          "Saint Louis University School of Medicine",
          "Saint Louis University School of Medicine",
          "University of Missouri-Kansas City School of Medicine",
          "University of Missouri-Kansas City School of Medicine",
          "University of Mississippi School of Medicine",
          "University of Mississippi School of Medicine",
          "Wake Forest School of Medicine of Wake Forest Baptist Medical Center",
          "Wake Forest School of Medicine of Wake Forest Baptist Medical Center",
          "University of Nevada, Reno School of Medicine",
          "University of Nevada, Reno School of Medicine",
          "Albany Medical College",
          "Albany Medical College",
          "Northeast Ohio Medical University",
          "Northeast Ohio Medical University",
          "University of Oklahoma College of Medicine",
          "University of Oklahoma College of Medicine",
          "Drexel University College of Medicine",
          "Drexel University College of Medicine",
          "Sidney Kimmel Medical College at Thomas Jefferson University",
          "Sidney Kimmel Medical College at Thomas Jefferson University",
          "Ponce School of Medicine",
          "Ponce School of Medicine",
          "Universidad Central del Caribe School of Medicine",
          "Universidad Central del Caribe School of Medicine",
          "University of Puerto Rico School of Medicine",
          "University of Puerto Rico School of Medicine",
          "University of South Carolina School of Medicine Columbia",
          "University of South Carolina School of Medicine Columbia",
          "East Tennessee State University James H. Quillen College of Medicine",
          "East Tennessee State University James H. Quillen College of Medicine",
          "University of Tennessee Health Science Center College of Medicine",
          "University of Tennessee Health Science Center College of Medicine",
          "Baylor College of Medicine",
          "Baylor College of Medicine",
          "Texas A&M Health Science Center College of Medicine",
          "Texas A&M Health Science Center College of Medicine",
          "Texas Tech University Health Sciences Center School of Medicine",
          "Texas Tech University Health Sciences Center School of Medicine",
          "The University of Texas Health Science Center at San Antonio Joe R. and Teresa Lozano Long School of Medicine",
          "The University of Texas Health Science Center at San Antonio Joe R. and Teresa Lozano Long School of Medicine",
          "University of Texas Medical Branch School of Medicine",
          "University of Texas Medical Branch School of Medicine",
          "University of Texas Southwestern Medical School",
          "University of Texas Southwestern Medical School",
          "University of Utah School of Medicine",
          "University of Utah School of Medicine",
          "University of Washington School of Medicine",
          "University of Washington School of Medicine",
          "Washington State University Elson S. Floyd College of Medicine",
          "Washington State University Elson S. Floyd College of Medicine",
          "Marshall University Joan C. Edwards School of Medicine",
          "Marshall University Joan C. Edwards School of Medicine",
          "West Virginia University School of Medicine",
          "West Virginia University School of Medicine",
          "Kent State University College of Podiatric Medicine",
          "Kent State University College of Podiatric Medicine",
          "New York Medical College",
          "New York Medical College"
         ],
         "tickvals": [
          "Midwestern University Arizona College of Osteopathic Medicine",
          "Midwestern University Arizona College of Osteopathic Medicine",
          "Western University of Health Sciences College of Osteopathic Medicine of the Pacific",
          "Western University of Health Sciences College of Osteopathic Medicine of the Pacific",
          "Rocky Vista University College of Osteopathic Medicine",
          "Rocky Vista University College of Osteopathic Medicine",
          "Lake Erie College of Osteopathic Medicine",
          "Lake Erie College of Osteopathic Medicine",
          "Nova Southeastern University Dr. Kiran C. Patel College of Osteopathic Medicine",
          "Nova Southeastern University Dr. Kiran C. Patel College of Osteopathic Medicine",
          "Des Moines University College of Osteopathic Medicine",
          "Des Moines University College of Osteopathic Medicine",
          "Idaho College of Osteopathic Medicine",
          "Idaho College of Osteopathic Medicine",
          "Midwestern University Chicago College of Osteopathic Medicine",
          "Midwestern University Chicago College of Osteopathic Medicine",
          "University of Pikeville Kentucky College of Osteopathic Medicine",
          "University of Pikeville Kentucky College of Osteopathic Medicine",
          "University of New England College of Osteopathic Medicine",
          "University of New England College of Osteopathic Medicine",
          "Michigan State University College of Osteopathic Medicine",
          "Michigan State University College of Osteopathic Medicine",
          "A. T. Still University Kirksville College of Osteopathic Medicine",
          "A. T. Still University Kirksville College of Osteopathic Medicine",
          "Kansas City University of Medicine and Biosciences College of Osteopathic Medicine",
          "Kansas City University of Medicine and Biosciences College of Osteopathic Medicine",
          "Campbell University School of Osteopathic Medicine",
          "Campbell University School of Osteopathic Medicine",
          "New York Institute of Technology College of Osteopathic Medicine",
          "New York Institute of Technology College of Osteopathic Medicine",
          "Touro College of Osteopathic Medicine",
          "Touro College of Osteopathic Medicine",
          "Ohio University Heritage College of Osteopathic Medicine",
          "Ohio University Heritage College of Osteopathic Medicine",
          "Oklahoma State University Center for Health Sciences College of Osteopathic Medicine",
          "Oklahoma State University Center for Health Sciences College of Osteopathic Medicine",
          "Philadelphia College of Osteopathic Medicine",
          "Philadelphia College of Osteopathic Medicine",
          "Lincoln Memorial University DeBusk College of Osteopathic Medicine",
          "Lincoln Memorial University DeBusk College of Osteopathic Medicine",
          "University of North Texas Health Science Center Texas College of Osteopathic Medicine",
          "University of North Texas Health Science Center Texas College of Osteopathic Medicine",
          "Rocky Vista University College of Osteopathic Medicine – Southern Utah Campus",
          "Rocky Vista University College of Osteopathic Medicine – Southern Utah Campus",
          "Edward Via College of Osteopathic Medicine",
          "Edward Via College of Osteopathic Medicine",
          "West Virginia School of Osteopathic Medicine",
          "West Virginia School of Osteopathic Medicine",
          "University of Alabama at Birmingham Marnix E. Heersink School of Medicine",
          "University of Alabama at Birmingham Marnix E. Heersink School of Medicine",
          "University of Arkansas for Medical Sciences College of Medicine",
          "University of Arkansas for Medical Sciences College of Medicine",
          "University of Arizona College of Medicine",
          "University of Arizona College of Medicine",
          "Kaiser Permanente Bernard J. Tyson School of Medicine",
          "Kaiser Permanente Bernard J. Tyson School of Medicine",
          "Loma Linda University School of Medicine",
          "Loma Linda University School of Medicine",
          "University of California, Irvine, School of Medicine",
          "University of California, Irvine, School of Medicine",
          "Yale School of Medicine",
          "Yale School of Medicine",
          "Georgetown University School of Medicine",
          "Georgetown University School of Medicine",
          "University of Miami Leonard M. Miller School of Medicine",
          "University of Miami Leonard M. Miller School of Medicine",
          "USF Health Morsani College of Medicine",
          "USF Health Morsani College of Medicine",
          "Medical College of Georgia at Augusta University",
          "Medical College of Georgia at Augusta University",
          "Loyola University Chicago Stritch School of Medicine",
          "Loyola University Chicago Stritch School of Medicine",
          "Southern Illinois University School of Medicine",
          "Southern Illinois University School of Medicine",
          "University of Illinois College of Medicine",
          "University of Illinois College of Medicine",
          "Indiana University School of Medicine",
          "Indiana University School of Medicine",
          "Louisiana State University School of Medicine in New Orleans",
          "Louisiana State University School of Medicine in New Orleans",
          "Tulane University School of Medicine",
          "Tulane University School of Medicine",
          "Tufts University School of Medicine",
          "Tufts University School of Medicine",
          "University of Massachusetts T.H. Chan School of Medicine",
          "University of Massachusetts T.H. Chan School of Medicine",
          "Uniformed Services University of the Health Sciences F. Edward Hebert School of Medicine",
          "Uniformed Services University of the Health Sciences F. Edward Hebert School of Medicine",
          "Wayne State University School of Medicine",
          "Wayne State University School of Medicine",
          "University of Minnesota Medical School",
          "University of Minnesota Medical School",
          "Saint Louis University School of Medicine",
          "Saint Louis University School of Medicine",
          "University of Missouri-Kansas City School of Medicine",
          "University of Missouri-Kansas City School of Medicine",
          "University of Mississippi School of Medicine",
          "University of Mississippi School of Medicine",
          "Wake Forest School of Medicine of Wake Forest Baptist Medical Center",
          "Wake Forest School of Medicine of Wake Forest Baptist Medical Center",
          "University of Nevada, Reno School of Medicine",
          "University of Nevada, Reno School of Medicine",
          "Albany Medical College",
          "Albany Medical College",
          "Northeast Ohio Medical University",
          "Northeast Ohio Medical University",
          "University of Oklahoma College of Medicine",
          "University of Oklahoma College of Medicine",
          "Drexel University College of Medicine",
          "Drexel University College of Medicine",
          "Sidney Kimmel Medical College at Thomas Jefferson University",
          "Sidney Kimmel Medical College at Thomas Jefferson University",
          "Ponce School of Medicine",
          "Ponce School of Medicine",
          "Universidad Central del Caribe School of Medicine",
          "Universidad Central del Caribe School of Medicine",
          "University of Puerto Rico School of Medicine",
          "University of Puerto Rico School of Medicine",
          "University of South Carolina School of Medicine Columbia",
          "University of South Carolina School of Medicine Columbia",
          "East Tennessee State University James H. Quillen College of Medicine",
          "East Tennessee State University James H. Quillen College of Medicine",
          "University of Tennessee Health Science Center College of Medicine",
          "University of Tennessee Health Science Center College of Medicine",
          "Baylor College of Medicine",
          "Baylor College of Medicine",
          "Texas A&M Health Science Center College of Medicine",
          "Texas A&M Health Science Center College of Medicine",
          "Texas Tech University Health Sciences Center School of Medicine",
          "Texas Tech University Health Sciences Center School of Medicine",
          "The University of Texas Health Science Center at San Antonio Joe R. and Teresa Lozano Long School of Medicine",
          "The University of Texas Health Science Center at San Antonio Joe R. and Teresa Lozano Long School of Medicine",
          "University of Texas Medical Branch School of Medicine",
          "University of Texas Medical Branch School of Medicine",
          "University of Texas Southwestern Medical School",
          "University of Texas Southwestern Medical School",
          "University of Utah School of Medicine",
          "University of Utah School of Medicine",
          "University of Washington School of Medicine",
          "University of Washington School of Medicine",
          "Washington State University Elson S. Floyd College of Medicine",
          "Washington State University Elson S. Floyd College of Medicine",
          "Marshall University Joan C. Edwards School of Medicine",
          "Marshall University Joan C. Edwards School of Medicine",
          "West Virginia University School of Medicine",
          "West Virginia University School of Medicine",
          "Kent State University College of Podiatric Medicine",
          "Kent State University College of Podiatric Medicine",
          "New York Medical College",
          "New York Medical College"
         ],
         "title": {
          "text": "university_name"
         },
         "visible": false
        },
        "yaxis": {
         "anchor": "x",
         "domain": [
          0,
          1
         ],
         "title": {
          "text": "Number of Students"
         }
        }
       }
      }
     },
     "metadata": {},
     "output_type": "display_data"
    }
   ],
   "source": [
    "import plotly.express as px # type: ignore\n",
    "fig = px.histogram(\n",
    "    sub_breakdown, \n",
    "    x=\"university_name\", \n",
    "    y=\"n_students\",\n",
    "    color='payment_status', \n",
    "    barmode='group',\n",
    "    height=600\n",
    ")\n",
    "fig.update_xaxes(\n",
    "    visible=False,\n",
    "    tickmode='array', \n",
    "    ticktext=[x for x in sub_breakdown['university_name'].tolist()],\n",
    "    tickvals=sub_breakdown['university_name'].tolist(),\n",
    "    categoryorder='total descending'\n",
    ")\n",
    "fig.update_yaxes(title_text=\"Number of Students\")\n",
    "fig.update_layout(\n",
    "    title=\"Paid Subscribers vs. Total Students by University\",\n",
    "    legend_title=\"Subscription Status\",\n",
    "    showlegend=True,\n",
    "    legend=dict(\n",
    "        yanchor=\"top\",\n",
    "        y=0.99,\n",
    "        xanchor=\"left\",\n",
    "        x=0.80\n",
    "    )\n",
    ")\n",
    "fig.show()"
   ]
  },
  {
   "cell_type": "code",
   "execution_count": null,
   "metadata": {},
   "outputs": [],
   "source": []
  }
 ],
 "metadata": {
  "kernelspec": {
   "display_name": "torch-playground",
   "language": "python",
   "name": "python3"
  },
  "language_info": {
   "codemirror_mode": {
    "name": "ipython",
    "version": 3
   },
   "file_extension": ".py",
   "mimetype": "text/x-python",
   "name": "python",
   "nbconvert_exporter": "python",
   "pygments_lexer": "ipython3",
   "version": "3.11.5"
  }
 },
 "nbformat": 4,
 "nbformat_minor": 2
}
